{
 "cells": [
  {
   "cell_type": "code",
   "execution_count": 86,
   "metadata": {},
   "outputs": [],
   "source": [
    "import gdal"
   ]
  },
  {
   "cell_type": "code",
   "execution_count": 87,
   "metadata": {},
   "outputs": [],
   "source": [
    "import geopandas as gpd"
   ]
  },
  {
   "cell_type": "code",
   "execution_count": 88,
   "metadata": {},
   "outputs": [],
   "source": [
    "filename = 'structures'"
   ]
  },
  {
   "cell_type": "code",
   "execution_count": 117,
   "metadata": {},
   "outputs": [],
   "source": [
    "polygon = '/Volumes/Backup2/catapult_stuff/final/Almil_Alrra/outputs/structures.shp'"
   ]
  },
  {
   "cell_type": "code",
   "execution_count": 118,
   "metadata": {},
   "outputs": [],
   "source": [
    "centroid = ('/Volumes/Backup2/catapult_stuff/final/Almil_Alrra/centroids/centroids.shp')"
   ]
  },
  {
   "cell_type": "code",
   "execution_count": 119,
   "metadata": {},
   "outputs": [],
   "source": [
    "output = ('/Volumes/Backup2/catapult_stuff/final/Almil_Alrra/structures.csv')"
   ]
  },
  {
   "cell_type": "code",
   "execution_count": 120,
   "metadata": {},
   "outputs": [],
   "source": [
    "df = gpd.read_file(polygon)"
   ]
  },
  {
   "cell_type": "code",
   "execution_count": 121,
   "metadata": {},
   "outputs": [],
   "source": [
    "df = gpd.read_file(polygon)\n",
    "#Find the center point\n",
    "a = df['Center_point'] = df['geometry'].centroid\n",
    "\n",
    "#Extract lat and lon from the centerpoint\n",
    "b = df[\"lat\"] = df.Center_point.map(lambda p: p.x)\n",
    "c = df[\"long\"] = df.Center_point.map(lambda p: p.y)"
   ]
  },
  {
   "cell_type": "code",
   "execution_count": 122,
   "metadata": {},
   "outputs": [
    {
     "name": "stderr",
     "output_type": "stream",
     "text": [
      "/Users/mominashraf/opt/anaconda3/lib/python3.7/site-packages/pyproj/crs.py:77: FutureWarning: '+init=<authority>:<code>' syntax is deprecated. '<authority>:<code>' is the preferred initialization method.\n",
      "  return _prepare_from_string(\" \".join(pjargs))\n",
      "/Users/mominashraf/opt/anaconda3/lib/python3.7/site-packages/pyproj/crs.py:77: FutureWarning: '+init=<authority>:<code>' syntax is deprecated. '<authority>:<code>' is the preferred initialization method.\n",
      "  return _prepare_from_string(\" \".join(pjargs))\n"
     ]
    }
   ],
   "source": [
    "tost = df.to_crs({'init': 'epsg:3857'})\n",
    "tost[\"area\"] = tost['geometry'].area\n",
    "\n",
    "tost['geometry'].to_crs({'init': 'epsg:3857'})\\\n",
    "               .map(lambda p: p.area)\n",
    "\n",
    "total_area = ['total_area']\n",
    "total_area = tost['area'].sum()\n",
    "\n",
    "tost['total_area'] = total_area"
   ]
  },
  {
   "cell_type": "code",
   "execution_count": 123,
   "metadata": {},
   "outputs": [],
   "source": [
    "tost.to_csv(output)"
   ]
  },
  {
   "cell_type": "code",
   "execution_count": 124,
   "metadata": {},
   "outputs": [
    {
     "data": {
      "text/html": [
       "<div>\n",
       "<style scoped>\n",
       "    .dataframe tbody tr th:only-of-type {\n",
       "        vertical-align: middle;\n",
       "    }\n",
       "\n",
       "    .dataframe tbody tr th {\n",
       "        vertical-align: top;\n",
       "    }\n",
       "\n",
       "    .dataframe thead th {\n",
       "        text-align: right;\n",
       "    }\n",
       "</style>\n",
       "<table border=\"1\" class=\"dataframe\">\n",
       "  <thead>\n",
       "    <tr style=\"text-align: right;\">\n",
       "      <th></th>\n",
       "      <th>id</th>\n",
       "      <th>geometry</th>\n",
       "      <th>Center_point</th>\n",
       "      <th>lat</th>\n",
       "      <th>long</th>\n",
       "      <th>area</th>\n",
       "      <th>total_area</th>\n",
       "    </tr>\n",
       "  </thead>\n",
       "  <tbody>\n",
       "    <tr>\n",
       "      <td>0</td>\n",
       "      <td>0</td>\n",
       "      <td>POLYGON ((5031167.800 1748436.774, 5031170.395...</td>\n",
       "      <td>POINT (520996.086 1715115.800)</td>\n",
       "      <td>520996.085546</td>\n",
       "      <td>1.715116e+06</td>\n",
       "      <td>30.626502</td>\n",
       "      <td>9609.375244</td>\n",
       "    </tr>\n",
       "    <tr>\n",
       "      <td>1</td>\n",
       "      <td>1</td>\n",
       "      <td>POLYGON ((5031160.518 1748419.025, 5031161.557...</td>\n",
       "      <td>POINT (520988.148 1715101.239)</td>\n",
       "      <td>520988.148485</td>\n",
       "      <td>1.715101e+06</td>\n",
       "      <td>7.453343</td>\n",
       "      <td>9609.375244</td>\n",
       "    </tr>\n",
       "    <tr>\n",
       "      <td>2</td>\n",
       "      <td>2</td>\n",
       "      <td>POLYGON ((5031169.858 1748416.927, 5031169.858...</td>\n",
       "      <td>POINT (520994.260 1715098.510)</td>\n",
       "      <td>520994.259615</td>\n",
       "      <td>1.715099e+06</td>\n",
       "      <td>7.046795</td>\n",
       "      <td>9609.375244</td>\n",
       "    </tr>\n",
       "    <tr>\n",
       "      <td>3</td>\n",
       "      <td>3</td>\n",
       "      <td>POLYGON ((5031164.665 1748413.276, 5031165.184...</td>\n",
       "      <td>POINT (520990.902 1715094.553)</td>\n",
       "      <td>520990.902439</td>\n",
       "      <td>1.715095e+06</td>\n",
       "      <td>5.556125</td>\n",
       "      <td>9609.375244</td>\n",
       "    </tr>\n",
       "    <tr>\n",
       "      <td>4</td>\n",
       "      <td>4</td>\n",
       "      <td>POLYGON ((5031126.787 1748422.189, 5031127.824...</td>\n",
       "      <td>POINT (520953.238 1715101.475)</td>\n",
       "      <td>520953.238263</td>\n",
       "      <td>1.715101e+06</td>\n",
       "      <td>19.243177</td>\n",
       "      <td>9609.375244</td>\n",
       "    </tr>\n",
       "    <tr>\n",
       "      <td>...</td>\n",
       "      <td>...</td>\n",
       "      <td>...</td>\n",
       "      <td>...</td>\n",
       "      <td>...</td>\n",
       "      <td>...</td>\n",
       "      <td>...</td>\n",
       "      <td>...</td>\n",
       "    </tr>\n",
       "    <tr>\n",
       "      <td>612</td>\n",
       "      <td>612</td>\n",
       "      <td>POLYGON ((5031327.696 1748489.372, 5031327.695...</td>\n",
       "      <td>POINT (521145.680 1715166.591)</td>\n",
       "      <td>521145.679941</td>\n",
       "      <td>1.715167e+06</td>\n",
       "      <td>15.313315</td>\n",
       "      <td>9609.375244</td>\n",
       "    </tr>\n",
       "    <tr>\n",
       "      <td>613</td>\n",
       "      <td>613</td>\n",
       "      <td>POLYGON ((5031318.355 1748489.903, 5031319.912...</td>\n",
       "      <td>POINT (521138.992 1715166.712)</td>\n",
       "      <td>521138.992308</td>\n",
       "      <td>1.715167e+06</td>\n",
       "      <td>17.617089</td>\n",
       "      <td>9609.375244</td>\n",
       "    </tr>\n",
       "    <tr>\n",
       "      <td>614</td>\n",
       "      <td>614</td>\n",
       "      <td>POLYGON ((5031319.903 1748481.023, 5031320.941...</td>\n",
       "      <td>POINT (521140.339 1715160.006)</td>\n",
       "      <td>521140.339080</td>\n",
       "      <td>1.715160e+06</td>\n",
       "      <td>3.929964</td>\n",
       "      <td>9609.375244</td>\n",
       "    </tr>\n",
       "    <tr>\n",
       "      <td>615</td>\n",
       "      <td>615</td>\n",
       "      <td>POLYGON ((5031347.509 1748589.100, 5031348.028...</td>\n",
       "      <td>POINT (521167.246 1715261.775)</td>\n",
       "      <td>521167.245763</td>\n",
       "      <td>1.715262e+06</td>\n",
       "      <td>15.991027</td>\n",
       "      <td>9609.375244</td>\n",
       "    </tr>\n",
       "    <tr>\n",
       "      <td>616</td>\n",
       "      <td>616</td>\n",
       "      <td>POLYGON ((5031353.727 1748578.650, 5031354.764...</td>\n",
       "      <td>POINT (521172.810 1715251.739)</td>\n",
       "      <td>521172.810185</td>\n",
       "      <td>1.715252e+06</td>\n",
       "      <td>14.635843</td>\n",
       "      <td>9609.375244</td>\n",
       "    </tr>\n",
       "  </tbody>\n",
       "</table>\n",
       "<p>617 rows × 7 columns</p>\n",
       "</div>"
      ],
      "text/plain": [
       "      id                                           geometry  \\\n",
       "0      0  POLYGON ((5031167.800 1748436.774, 5031170.395...   \n",
       "1      1  POLYGON ((5031160.518 1748419.025, 5031161.557...   \n",
       "2      2  POLYGON ((5031169.858 1748416.927, 5031169.858...   \n",
       "3      3  POLYGON ((5031164.665 1748413.276, 5031165.184...   \n",
       "4      4  POLYGON ((5031126.787 1748422.189, 5031127.824...   \n",
       "..   ...                                                ...   \n",
       "612  612  POLYGON ((5031327.696 1748489.372, 5031327.695...   \n",
       "613  613  POLYGON ((5031318.355 1748489.903, 5031319.912...   \n",
       "614  614  POLYGON ((5031319.903 1748481.023, 5031320.941...   \n",
       "615  615  POLYGON ((5031347.509 1748589.100, 5031348.028...   \n",
       "616  616  POLYGON ((5031353.727 1748578.650, 5031354.764...   \n",
       "\n",
       "                       Center_point            lat          long       area  \\\n",
       "0    POINT (520996.086 1715115.800)  520996.085546  1.715116e+06  30.626502   \n",
       "1    POINT (520988.148 1715101.239)  520988.148485  1.715101e+06   7.453343   \n",
       "2    POINT (520994.260 1715098.510)  520994.259615  1.715099e+06   7.046795   \n",
       "3    POINT (520990.902 1715094.553)  520990.902439  1.715095e+06   5.556125   \n",
       "4    POINT (520953.238 1715101.475)  520953.238263  1.715101e+06  19.243177   \n",
       "..                              ...            ...           ...        ...   \n",
       "612  POINT (521145.680 1715166.591)  521145.679941  1.715167e+06  15.313315   \n",
       "613  POINT (521138.992 1715166.712)  521138.992308  1.715167e+06  17.617089   \n",
       "614  POINT (521140.339 1715160.006)  521140.339080  1.715160e+06   3.929964   \n",
       "615  POINT (521167.246 1715261.775)  521167.245763  1.715262e+06  15.991027   \n",
       "616  POINT (521172.810 1715251.739)  521172.810185  1.715252e+06  14.635843   \n",
       "\n",
       "      total_area  \n",
       "0    9609.375244  \n",
       "1    9609.375244  \n",
       "2    9609.375244  \n",
       "3    9609.375244  \n",
       "4    9609.375244  \n",
       "..           ...  \n",
       "612  9609.375244  \n",
       "613  9609.375244  \n",
       "614  9609.375244  \n",
       "615  9609.375244  \n",
       "616  9609.375244  \n",
       "\n",
       "[617 rows x 7 columns]"
      ]
     },
     "execution_count": 124,
     "metadata": {},
     "output_type": "execute_result"
    }
   ],
   "source": [
    "tost"
   ]
  }
 ],
 "metadata": {
  "kernelspec": {
   "display_name": "Python 3",
   "language": "python",
   "name": "python3"
  },
  "language_info": {
   "codemirror_mode": {
    "name": "ipython",
    "version": 3
   },
   "file_extension": ".py",
   "mimetype": "text/x-python",
   "name": "python",
   "nbconvert_exporter": "python",
   "pygments_lexer": "ipython3",
   "version": "3.8.3"
  }
 },
 "nbformat": 4,
 "nbformat_minor": 2
}
